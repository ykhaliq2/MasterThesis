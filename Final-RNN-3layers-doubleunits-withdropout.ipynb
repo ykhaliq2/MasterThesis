{
 "cells": [
  {
   "cell_type": "code",
   "execution_count": 1,
   "id": "12abec69",
   "metadata": {},
   "outputs": [],
   "source": [
    "import numpy as np\n",
    "import matplotlib.pyplot as plt\n",
    "import pandas as pd\n",
    "from numpy.linalg import inv\n",
    "from scipy.interpolate import CubicSpline\n",
    "#from sklearn.preprocessing import MinMaxScaler\n",
    "import seaborn as sns\n",
    "import matplotlib as mpl\n",
    "from tensorflow.keras.callbacks import CSVLogger, EarlyStopping\n",
    "\n",
    "from tensorflow.keras import Sequential\n",
    "from tensorflow.keras.layers import Dense, LSTM, Dropout, SimpleRNN\n",
    "import tensorflow as tf\n",
    "\n",
    "mpl.rcParams['figure.figsize'] = (17, 5)\n",
    "mpl.rcParams['axes.grid'] = False\n",
    "sns.set_style(\"whitegrid\")\n",
    "\n",
    "from datetime import datetime\n",
    "from matplotlib.dates import date2num, DayLocator, DateFormatter"
   ]
  },
  {
   "cell_type": "code",
   "execution_count": 2,
   "id": "b53e2655",
   "metadata": {},
   "outputs": [],
   "source": [
    "def savefig(filename, crop = True):\n",
    "    plt.savefig('{}.pdf'.format(filename))\n",
    "    plt.savefig('{}.eps'.format(filename))"
   ]
  },
  {
   "cell_type": "code",
   "execution_count": 3,
   "id": "9d30e705",
   "metadata": {},
   "outputs": [
    {
     "name": "stdout",
     "output_type": "stream",
     "text": [
      "1975\n"
     ]
    }
   ],
   "source": [
    "import datetime\n",
    "import matplotlib.dates as mdates\n",
    "\n",
    "today = '11/8/22' \n",
    "days = pd.date_range(start='6/13/17',end=today) \n",
    "ddd = np.arange(len(days))\n",
    "t = np.reshape(ddd, [-1])\n",
    "\n",
    "print(len(t))\n",
    "\n",
    "# Generate some random date-time data\n",
    "numdays1 = len(t)\n",
    "base1 = datetime.date.fromisoformat('2017-06-13')\n",
    "date_list1 = [base1 + datetime.timedelta(days=x) for x in range(0, numdays1)]"
   ]
  },
  {
   "cell_type": "code",
   "execution_count": 4,
   "id": "a78cdf81",
   "metadata": {},
   "outputs": [],
   "source": [
    "# Data Loader Parameters\n",
    "BATCH_SIZE = 256\n",
    "BUFFER_SIZE = 1000\n",
    "TRAIN_SPLIT = 1900\n",
    "\n",
    "# LSTM Parameters\n",
    "EVALUATION_INTERVAL = 200\n",
    "EPOCHS = 4\n",
    "PATIENCE = 5\n",
    "\n",
    "# Reproducibility\n",
    "SEED = 13\n",
    "tf.random.set_seed(SEED)"
   ]
  },
  {
   "cell_type": "code",
   "execution_count": 5,
   "id": "67ff6932",
   "metadata": {},
   "outputs": [],
   "source": [
    "data = pd.read_csv('BTC-USD-daily.csv', date_parser = True)\n",
    "# data.tail()"
   ]
  },
  {
   "cell_type": "code",
   "execution_count": 6,
   "id": "006b5ea1",
   "metadata": {},
   "outputs": [
    {
     "data": {
      "text/html": [
       "<div>\n",
       "<style scoped>\n",
       "    .dataframe tbody tr th:only-of-type {\n",
       "        vertical-align: middle;\n",
       "    }\n",
       "\n",
       "    .dataframe tbody tr th {\n",
       "        vertical-align: top;\n",
       "    }\n",
       "\n",
       "    .dataframe thead th {\n",
       "        text-align: right;\n",
       "    }\n",
       "</style>\n",
       "<table border=\"1\" class=\"dataframe\">\n",
       "  <thead>\n",
       "    <tr style=\"text-align: right;\">\n",
       "      <th></th>\n",
       "      <th>Open</th>\n",
       "      <th>High</th>\n",
       "      <th>Low</th>\n",
       "      <th>Close</th>\n",
       "    </tr>\n",
       "  </thead>\n",
       "  <tbody>\n",
       "    <tr>\n",
       "      <th>0</th>\n",
       "      <td>465.864014</td>\n",
       "      <td>468.174011</td>\n",
       "      <td>452.421997</td>\n",
       "      <td>457.334015</td>\n",
       "    </tr>\n",
       "    <tr>\n",
       "      <th>1</th>\n",
       "      <td>456.859985</td>\n",
       "      <td>456.859985</td>\n",
       "      <td>413.104004</td>\n",
       "      <td>424.440002</td>\n",
       "    </tr>\n",
       "    <tr>\n",
       "      <th>2</th>\n",
       "      <td>424.102997</td>\n",
       "      <td>427.834991</td>\n",
       "      <td>384.532013</td>\n",
       "      <td>394.795990</td>\n",
       "    </tr>\n",
       "    <tr>\n",
       "      <th>3</th>\n",
       "      <td>394.673004</td>\n",
       "      <td>423.295990</td>\n",
       "      <td>389.882996</td>\n",
       "      <td>408.903992</td>\n",
       "    </tr>\n",
       "    <tr>\n",
       "      <th>4</th>\n",
       "      <td>408.084991</td>\n",
       "      <td>412.425995</td>\n",
       "      <td>393.181000</td>\n",
       "      <td>398.821014</td>\n",
       "    </tr>\n",
       "    <tr>\n",
       "      <th>...</th>\n",
       "      <td>...</td>\n",
       "      <td>...</td>\n",
       "      <td>...</td>\n",
       "      <td>...</td>\n",
       "    </tr>\n",
       "    <tr>\n",
       "      <th>2970</th>\n",
       "      <td>20208.769531</td>\n",
       "      <td>21209.560547</td>\n",
       "      <td>20188.019531</td>\n",
       "      <td>21147.230469</td>\n",
       "    </tr>\n",
       "    <tr>\n",
       "      <th>2971</th>\n",
       "      <td>21144.832031</td>\n",
       "      <td>21446.886719</td>\n",
       "      <td>21097.634766</td>\n",
       "      <td>21282.691406</td>\n",
       "    </tr>\n",
       "    <tr>\n",
       "      <th>2972</th>\n",
       "      <td>21285.056641</td>\n",
       "      <td>21345.376953</td>\n",
       "      <td>20920.191406</td>\n",
       "      <td>20926.486328</td>\n",
       "    </tr>\n",
       "    <tr>\n",
       "      <th>2973</th>\n",
       "      <td>20924.621094</td>\n",
       "      <td>21053.246094</td>\n",
       "      <td>20489.972656</td>\n",
       "      <td>20602.816406</td>\n",
       "    </tr>\n",
       "    <tr>\n",
       "      <th>2974</th>\n",
       "      <td>20620.449219</td>\n",
       "      <td>20662.337891</td>\n",
       "      <td>18754.533203</td>\n",
       "      <td>18882.679688</td>\n",
       "    </tr>\n",
       "  </tbody>\n",
       "</table>\n",
       "<p>2975 rows × 4 columns</p>\n",
       "</div>"
      ],
      "text/plain": [
       "              Open          High           Low         Close\n",
       "0       465.864014    468.174011    452.421997    457.334015\n",
       "1       456.859985    456.859985    413.104004    424.440002\n",
       "2       424.102997    427.834991    384.532013    394.795990\n",
       "3       394.673004    423.295990    389.882996    408.903992\n",
       "4       408.084991    412.425995    393.181000    398.821014\n",
       "...            ...           ...           ...           ...\n",
       "2970  20208.769531  21209.560547  20188.019531  21147.230469\n",
       "2971  21144.832031  21446.886719  21097.634766  21282.691406\n",
       "2972  21285.056641  21345.376953  20920.191406  20926.486328\n",
       "2973  20924.621094  21053.246094  20489.972656  20602.816406\n",
       "2974  20620.449219  20662.337891  18754.533203  18882.679688\n",
       "\n",
       "[2975 rows x 4 columns]"
      ]
     },
     "execution_count": 6,
     "metadata": {},
     "output_type": "execute_result"
    }
   ],
   "source": [
    "data = data.drop(['Date', 'Adj Close', 'Volume'], axis = 1)\n",
    "data"
   ]
  },
  {
   "cell_type": "code",
   "execution_count": 7,
   "id": "ac48ca03",
   "metadata": {},
   "outputs": [
    {
     "data": {
      "text/plain": [
       "array([[  465.864014,   468.174011,   452.421997,   457.334015],\n",
       "       [  456.859985,   456.859985,   413.104004,   424.440002],\n",
       "       [  424.102997,   427.834991,   384.532013,   394.79599 ],\n",
       "       ...,\n",
       "       [21285.056641, 21345.376953, 20920.191406, 20926.486328],\n",
       "       [20924.621094, 21053.246094, 20489.972656, 20602.816406],\n",
       "       [20620.449219, 20662.337891, 18754.533203, 18882.679688]])"
      ]
     },
     "execution_count": 7,
     "metadata": {},
     "output_type": "execute_result"
    }
   ],
   "source": [
    "data = data.to_numpy()\n",
    "data"
   ]
  },
  {
   "cell_type": "code",
   "execution_count": 8,
   "id": "c8e4ce4e",
   "metadata": {},
   "outputs": [
    {
     "name": "stdout",
     "output_type": "stream",
     "text": [
      "(1975,)\n"
     ]
    },
    {
     "data": {
      "image/png": "[encoded data removed]",
      "text/plain": [
       "<Figure size 864x576 with 1 Axes>"
      ]
     },
     "metadata": {},
     "output_type": "display_data"
    }
   ],
   "source": [
    "fig, ax1 = plt.subplots(nrows=1, ncols=1, sharex=True, figsize=(12, 8))\n",
    "\n",
    "Data=data[1000:,:]\n",
    "uni_data = Data[:,3]\n",
    "print(uni_data.shape)\n",
    "\n",
    "ax1.plot(date_list1,uni_data,'k')\n",
    "ax1.set_title('BTC-USD Close Price',fontsize = 20)\n",
    "ax1.xaxis.set_major_locator(DayLocator())\n",
    "ax1.xaxis.set_major_formatter(DateFormatter('%Y-%b'))\n",
    "ax1.xaxis.set_major_locator(mdates.WeekdayLocator(interval=40))\n",
    "ax1.set_ylabel(' ',fontsize = 20)\n",
    "ax1.tick_params(labelsize=15)\n",
    "\n",
    "savefig('./figures/BTC-USD')"
   ]
  },
  {
   "cell_type": "code",
   "execution_count": 9,
   "id": "e8b39e38",
   "metadata": {},
   "outputs": [],
   "source": [
    "def univariate_data(dataset, start_index, end_index, history_size, target_size):\n",
    "    data = []\n",
    "    labels = []\n",
    "\n",
    "    start_index = start_index + history_size\n",
    "    if end_index is None:\n",
    "        end_index = len(dataset) - target_size\n",
    "\n",
    "    for i in range(start_index, end_index):\n",
    "        indices = range(i-history_size, i)\n",
    "        # Reshape data from (history_size,) to (history_size, 1)\n",
    "        data.append(np.reshape(dataset[indices], (history_size, 1)))\n",
    "        labels.append(dataset[i+target_size])\n",
    "        \n",
    "    return np.array(data), np.array(labels)"
   ]
  },
  {
   "cell_type": "code",
   "execution_count": 10,
   "id": "d46bafe1",
   "metadata": {},
   "outputs": [],
   "source": [
    "uni_train_mean = uni_data[:TRAIN_SPLIT].mean()\n",
    "uni_train_std = uni_data[:TRAIN_SPLIT].std()"
   ]
  },
  {
   "cell_type": "code",
   "execution_count": 11,
   "id": "fdb03545",
   "metadata": {},
   "outputs": [],
   "source": [
    "# normalize with mean and std of train set\n",
    "\n",
    "uni_data = (uni_data-uni_train_mean)/uni_train_std"
   ]
  },
  {
   "cell_type": "code",
   "execution_count": 12,
   "id": "b97b45a4",
   "metadata": {},
   "outputs": [],
   "source": [
    "univariate_past_history = 60\n",
    "univariate_future_target = 0\n",
    "\n",
    "x_train_uni, y_train_uni = univariate_data(dataset=uni_data,\n",
    "                                           start_index=0,\n",
    "                                           end_index=TRAIN_SPLIT,\n",
    "                                           history_size=univariate_past_history,\n",
    "                                           target_size=univariate_future_target)\n",
    "x_val_uni, y_val_uni = univariate_data(dataset=uni_data,\n",
    "                                       start_index=TRAIN_SPLIT,\n",
    "                                       end_index=None,\n",
    "                                       history_size=univariate_past_history,\n",
    "                                       target_size=univariate_future_target)"
   ]
  },
  {
   "cell_type": "code",
   "execution_count": 13,
   "id": "80729e11",
   "metadata": {},
   "outputs": [],
   "source": [
    "# print ('Single window of past history. Shape: {}'.format(x_train_uni[-1].shape))\n",
    "# print (x_train_uni[-1])\n",
    "# print ('\\n Target close price to predict. Shape: {}'.format(y_train_uni[-1].shape))\n",
    "# print (y_train_uni[-1])"
   ]
  },
  {
   "cell_type": "code",
   "execution_count": 14,
   "id": "1919147c",
   "metadata": {},
   "outputs": [
    {
     "name": "stdout",
     "output_type": "stream",
     "text": [
      "60\n",
      "15\n",
      "60\n"
     ]
    }
   ],
   "source": [
    "import datetime\n",
    "import matplotlib.dates as mdates\n",
    "\n",
    "#\n",
    "Days2 = pd.date_range(start='9/10/22',end='11/8/22') \n",
    "dd2 = np.arange(len(Days2))\n",
    "tt2 = np.reshape(dd2, [-1])\n",
    "\n",
    "print(len(tt2))\n",
    "\n",
    "numdays22 = len(tt2)\n",
    "base22 = datetime.date.fromisoformat('2022-09-10')\n",
    "date_list22 = [base22 + datetime.timedelta(days=x) for x in range(0, numdays22)]\n",
    "\n",
    "#\n",
    "Days3 = pd.date_range(start='10/25/22',end='11/8/22') \n",
    "dd3 = np.arange(len(Days3))\n",
    "tt3 = np.reshape(dd3, [-1])\n",
    "\n",
    "print(len(tt3))\n",
    "\n",
    "numdays23 = len(tt3)\n",
    "base23 = datetime.date.fromisoformat('2022-10-25')\n",
    "date_list23 = [base23 + datetime.timedelta(days=x) for x in range(0, numdays23)]\n",
    "\n",
    "#\n",
    "Days4 = pd.date_range(start='9/10/22',end='11/8/22') \n",
    "dd4 = np.arange(len(Days4))\n",
    "tt4 = np.reshape(dd4, [-1])\n",
    "\n",
    "print(len(tt4))\n",
    "\n",
    "numdays24 = len(tt4)\n",
    "base24 = datetime.date.fromisoformat('2022-09-10')\n",
    "date_list24 = [base24 + datetime.timedelta(days=x) for x in range(0, numdays24)]\n",
    "\n"
   ]
  },
  {
   "cell_type": "code",
   "execution_count": 15,
   "id": "fe549fa7",
   "metadata": {},
   "outputs": [],
   "source": [
    "# RNN\n",
    "\n",
    "train_univariate = tf.data.Dataset.from_tensor_slices((x_train_uni, y_train_uni))\n",
    "train_univariate = train_univariate.cache().shuffle(BUFFER_SIZE).batch(BATCH_SIZE).repeat()\n",
    "\n",
    "val_univariate = tf.data.Dataset.from_tensor_slices((x_val_uni, y_val_uni))\n",
    "val_univariate = val_univariate.batch(BATCH_SIZE).repeat()"
   ]
  },
  {
   "cell_type": "code",
   "execution_count": 16,
   "id": "be36c34b",
   "metadata": {},
   "outputs": [],
   "source": [
    "# RNN 1\n",
    "\n",
    "simple_rnn_model_1 = Sequential([\n",
    "    SimpleRNN(100, activation = 'relu', input_shape=x_train_uni.shape[-2:]),\n",
    "    Dense(1)\n",
    "])\n",
    "simple_rnn_model_1.compile(optimizer='adam', loss='mae')"
   ]
  },
  {
   "cell_type": "code",
   "execution_count": 17,
   "id": "c9f8d4fd",
   "metadata": {},
   "outputs": [],
   "source": [
    "# RNN 2\n",
    "\n",
    "simple_rnn_model_2 = Sequential()\n",
    "simple_rnn_model_2.add(SimpleRNN(100, activation = 'relu', return_sequences = True, input_shape = x_train_uni.shape[-2:]))\n",
    "simple_rnn_model_2.add(Dropout(0.1))\n",
    "simple_rnn_model_2.add(SimpleRNN(100, activation = 'relu'))\n",
    "#simple_rnn_model_2.add(Dropout(0.3))\n",
    "simple_rnn_model_2.add(Dense(1))\n",
    "\n",
    "simple_rnn_model_2.compile(optimizer='adam', loss='mae')"
   ]
  },
  {
   "cell_type": "code",
   "execution_count": 18,
   "id": "f5869751",
   "metadata": {},
   "outputs": [],
   "source": [
    "# RNN 3\n",
    "\n",
    "simple_rnn_model_3 = Sequential()\n",
    "simple_rnn_model_3.add(SimpleRNN(100, activation = 'relu', return_sequences = True, input_shape = x_train_uni.shape[-2:]))\n",
    "#simple_rnn_model_3.add(Dropout(0.1))\n",
    "simple_rnn_model_3.add(SimpleRNN(100, activation = 'relu', return_sequences = True))\n",
    "simple_rnn_model_3.add(Dropout(0.1))\n",
    "simple_rnn_model_3.add(SimpleRNN(100, activation = 'relu'))\n",
    "#simple_rnn_model_3.add(Dropout(0.3))\n",
    "simple_rnn_model_3.add(Dense(1))\n",
    "\n",
    "\n",
    "simple_rnn_model_3.compile(optimizer='adam', loss='mae')"
   ]
  },
  {
   "cell_type": "code",
   "execution_count": 19,
   "id": "d96b6540",
   "metadata": {},
   "outputs": [
    {
     "name": "stdout",
     "output_type": "stream",
     "text": [
      "1/1 [==============================] - 0s 160ms/step\n",
      "(15, 1)\n"
     ]
    }
   ],
   "source": [
    "for x, y in val_univariate.take(1):\n",
    "    print(simple_rnn_model_1.predict(x).shape)"
   ]
  },
  {
   "cell_type": "code",
   "execution_count": 20,
   "id": "3c9b544b",
   "metadata": {},
   "outputs": [
    {
     "name": "stdout",
     "output_type": "stream",
     "text": [
      "1/1 [==============================] - 0s 202ms/step\n",
      "(15, 1)\n"
     ]
    }
   ],
   "source": [
    "for x, y in val_univariate.take(1):\n",
    "    print(simple_rnn_model_2.predict(x).shape)"
   ]
  },
  {
   "cell_type": "code",
   "execution_count": 21,
   "id": "c12ef60e",
   "metadata": {},
   "outputs": [
    {
     "name": "stdout",
     "output_type": "stream",
     "text": [
      "1/1 [==============================] - 0s 283ms/step\n",
      "(15, 1)\n"
     ]
    }
   ],
   "source": [
    "for x, y in val_univariate.take(1):\n",
    "    print(simple_rnn_model_3.predict(x).shape)"
   ]
  },
  {
   "cell_type": "code",
   "execution_count": 22,
   "id": "928a8fbe",
   "metadata": {},
   "outputs": [
    {
     "name": "stdout",
     "output_type": "stream",
     "text": [
      "Epoch 1/4\n",
      "200/200 [==============================] - 4s 16ms/step - loss: 0.0908 - val_loss: 0.0277\n",
      "Epoch 2/4\n",
      "200/200 [==============================] - 3s 16ms/step - loss: 0.0359 - val_loss: 0.0278\n",
      "Epoch 3/4\n",
      "200/200 [==============================] - 3s 16ms/step - loss: 0.0355 - val_loss: 0.0253\n",
      "Epoch 4/4\n",
      "200/200 [==============================] - 3s 17ms/step - loss: 0.0335 - val_loss: 0.0258\n"
     ]
    },
    {
     "data": {
      "text/plain": [
       "<keras.callbacks.History at 0x1f2b9d8d130>"
      ]
     },
     "execution_count": 22,
     "metadata": {},
     "output_type": "execute_result"
    }
   ],
   "source": [
    "early_stopping = EarlyStopping(monitor='val_loss', patience = 3, restore_best_weights=True)\n",
    "simple_rnn_model_1.fit(train_univariate,\n",
    "                      epochs=EPOCHS,\n",
    "                      steps_per_epoch=EVALUATION_INTERVAL,\n",
    "                      validation_data=val_univariate,\n",
    "                      callbacks=[early_stopping],\n",
    "                      validation_steps=50)"
   ]
  },
  {
   "cell_type": "code",
   "execution_count": 23,
   "id": "6d8c9710",
   "metadata": {},
   "outputs": [
    {
     "name": "stdout",
     "output_type": "stream",
     "text": [
      "Epoch 1/4\n",
      "200/200 [==============================] - 13s 58ms/step - loss: 0.0662 - val_loss: 0.0250\n",
      "Epoch 2/4\n",
      "200/200 [==============================] - 12s 59ms/step - loss: 0.0454 - val_loss: 0.0242\n",
      "Epoch 3/4\n",
      "200/200 [==============================] - 12s 60ms/step - loss: 0.0432 - val_loss: 0.0241\n",
      "Epoch 4/4\n",
      "200/200 [==============================] - 12s 60ms/step - loss: 0.0411 - val_loss: 0.0234\n"
     ]
    },
    {
     "data": {
      "text/plain": [
       "<keras.callbacks.History at 0x1f2b9ca1760>"
      ]
     },
     "execution_count": 23,
     "metadata": {},
     "output_type": "execute_result"
    }
   ],
   "source": [
    "early_stopping = EarlyStopping(monitor='val_loss', patience = 3, restore_best_weights=True)\n",
    "simple_rnn_model_2.fit(train_univariate,\n",
    "                      epochs=EPOCHS,\n",
    "                      steps_per_epoch=EVALUATION_INTERVAL,\n",
    "                      validation_data=val_univariate,\n",
    "                      callbacks=[early_stopping],\n",
    "                      validation_steps=50)"
   ]
  },
  {
   "cell_type": "code",
   "execution_count": 24,
   "id": "d9e44499",
   "metadata": {},
   "outputs": [
    {
     "name": "stdout",
     "output_type": "stream",
     "text": [
      "Epoch 1/4\n",
      "200/200 [==============================] - 21s 95ms/step - loss: 0.0857 - val_loss: 0.0231\n",
      "Epoch 2/4\n",
      "200/200 [==============================] - 19s 95ms/step - loss: 0.0480 - val_loss: 0.0255\n",
      "Epoch 3/4\n",
      "200/200 [==============================] - 19s 96ms/step - loss: 0.0445 - val_loss: 0.0268\n",
      "Epoch 4/4\n",
      "200/200 [==============================] - 19s 97ms/step - loss: 0.0427 - val_loss: 0.0297\n"
     ]
    },
    {
     "data": {
      "text/plain": [
       "<keras.callbacks.History at 0x1f2b9d8d0a0>"
      ]
     },
     "execution_count": 24,
     "metadata": {},
     "output_type": "execute_result"
    }
   ],
   "source": [
    "early_stopping = EarlyStopping(monitor='val_loss', patience = 3, restore_best_weights=True)\n",
    "simple_rnn_model_3.fit(train_univariate,\n",
    "                      epochs=EPOCHS,\n",
    "                      steps_per_epoch=EVALUATION_INTERVAL,\n",
    "                      validation_data=val_univariate,\n",
    "                      callbacks=[early_stopping],\n",
    "                      validation_steps=50)"
   ]
  },
  {
   "cell_type": "code",
   "execution_count": 26,
   "id": "2589cb54",
   "metadata": {},
   "outputs": [
    {
     "name": "stdout",
     "output_type": "stream",
     "text": [
      "1/1 [==============================] - 0s 14ms/step\n",
      "1/1 [==============================] - 0s 16ms/step\n",
      "1/1 [==============================] - 0s 17ms/step\n"
     ]
    },
    {
     "name": "stderr",
     "output_type": "stream",
     "text": [
      "The PostScript backend does not support transparency; partially transparent artists will be rendered opaque.\n"
     ]
    },
    {
     "data": {
      "image/png": "[encoded data removed]",
      "text/plain": [
       "<Figure size 864x432 with 1 Axes>"
      ]
     },
     "metadata": {},
     "output_type": "display_data"
    }
   ],
   "source": [
    "# for x, y in val_univariate.take(1):\n",
    "\n",
    "fig, ax1 = plt.subplots(nrows=1, ncols=1, sharex=True, figsize=(12, 6))\n",
    "ax1.xaxis.set_major_locator(DayLocator())\n",
    "ax1.xaxis.set_major_locator(mdates.WeekdayLocator(interval=2))\n",
    "ax1.set_ylabel('Normalized Close Price ',fontsize = 20)\n",
    "ax1.tick_params(labelsize=15)\n",
    "ax1.xaxis.set_major_formatter(DateFormatter('%Y-%b'))\n",
    "ax1.plot(date_list24[0:45],uni_data[1914:1959],'k.') # data\n",
    "ax1.plot(date_list22[:46],x[-1,:46,:].numpy(),'k-') # test\n",
    "ax1.plot(date_list24[45:],x[-1,45:,:].numpy(),'r-') # target\n",
    "ax1.plot(date_list23,simple_rnn_model_1.predict(x),'g--') # prediction\n",
    "ax1.plot(date_list23,simple_rnn_model_2.predict(x),'b--') # prediction\n",
    "ax1.plot(date_list23,simple_rnn_model_3.predict(x),'m--') # prediction\n",
    "#plt.plot(date_list24[46:],y[:-1].numpy(),'b--') # target\n",
    "    \n",
    "plt.legend(('data','test','target','rnn1','rnn2','rnn3'),loc='best',fontsize = 15)\n",
    "    \n",
    "savefig('./figures/rnn3layersdoubleunitswithdropoutBEST')\n",
    "    "
   ]
  },
  {
   "cell_type": "code",
   "execution_count": null,
   "id": "d8c47f46",
   "metadata": {},
   "outputs": [],
   "source": []
  }
 ],
 "metadata": {
  "kernelspec": {
   "display_name": "Python 3 (ipykernel)",
   "language": "python",
   "name": "python3"
  },
  "language_info": {
   "codemirror_mode": {
    "name": "ipython",
    "version": 3
   },
   "file_extension": ".py",
   "mimetype": "text/x-python",
   "name": "python",
   "nbconvert_exporter": "python",
   "pygments_lexer": "ipython3",
   "version": "3.9.12"
  }
 },
 "nbformat": 4,
 "nbformat_minor": 5
}
